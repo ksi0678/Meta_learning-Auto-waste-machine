{
  "nbformat": 4,
  "nbformat_minor": 0,
  "metadata": {
    "kernelspec": {
      "display_name": "Python 3",
      "language": "python",
      "name": "python3"
    },
    "language_info": {
      "codemirror_mode": {
        "name": "ipython",
        "version": 3
      },
      "file_extension": ".py",
      "mimetype": "text/x-python",
      "name": "python",
      "nbconvert_exporter": "python",
      "pygments_lexer": "ipython3",
      "version": "3.8.3"
    },
    "colab": {
      "name": "2014112106_Meta-Learning.ipynb",
      "provenance": [],
      "collapsed_sections": []
    },
    "accelerator": "GPU"
  },
  "cells": [
    {
      "cell_type": "markdown",
      "metadata": {
        "id": "unSLgm5N9Apq"
      },
      "source": [
        "## Dataset Download"
      ]
    },
    {
      "cell_type": "code",
      "metadata": {
        "colab": {
          "base_uri": "https://localhost:8080/"
        },
        "id": "taO-y94R9IFc",
        "outputId": "18c43908-b526-47f7-963c-f4d1e29da0d4"
      },
      "source": [
        "from google.colab import drive\n",
        "drive.mount('/content/gdrive/')"
      ],
      "execution_count": 1,
      "outputs": [
        {
          "output_type": "stream",
          "text": [
            "Mounted at /content/gdrive/\n"
          ],
          "name": "stdout"
        }
      ]
    },
    {
      "cell_type": "code",
      "metadata": {
        "id": "fNv905uP9dUl"
      },
      "source": [
        "data_path = \"/content/gdrive/MyDrive/Data\""
      ],
      "execution_count": 2,
      "outputs": []
    },
    {
      "cell_type": "markdown",
      "metadata": {
        "id": "JJ1ojvPI9Ap1"
      },
      "source": [
        "## Utility functions"
      ]
    },
    {
      "cell_type": "code",
      "metadata": {
        "collapsed": true,
        "id": "T3W2oafZ9Ap2"
      },
      "source": [
        "\"\"\" Utility functions. \"\"\"\n",
        "## NOTE: You do not need to modify this block but you will need to use it.\n",
        "import numpy as np\n",
        "import os\n",
        "import random\n",
        "import tensorflow as tf\n",
        "\n",
        "## Loss utilities\n",
        "def cross_entropy_loss(pred, label, k_shot):\n",
        "    return tf.reduce_mean(tf.nn.softmax_cross_entropy_with_logits(logits=pred, labels=tf.stop_gradient(label)) / k_shot)\n",
        "\n",
        "def accuracy(labels, predictions):\n",
        "    return tf.reduce_mean(tf.cast(tf.equal(labels, predictions), dtype=tf.float32))"
      ],
      "execution_count": 3,
      "outputs": []
    },
    {
      "cell_type": "markdown",
      "metadata": {
        "id": "m5Yvuvnl9Ap2"
      },
      "source": [
        "## Convolutional layers used by MAML Model"
      ]
    },
    {
      "cell_type": "code",
      "metadata": {
        "collapsed": true,
        "id": "ZVWgJEHY9Ap3"
      },
      "source": [
        "\"\"\"Convolutional layers used by MAML model.\"\"\"\n",
        "## NOTE: You do not need to modify this block but you will need to use it.\n",
        "seed = 123\n",
        "def conv_block(inp, cweight, bweight, bn, activation=tf.nn.relu, residual=False):\n",
        "    \"\"\" Perform, conv, batch norm, nonlinearity, and max pool \"\"\"\n",
        "    stride, no_stride = [1,2,2,1], [1,1,1,1]\n",
        "  \n",
        "    conv_output = tf.nn.conv2d(input=inp, filters=cweight, strides=no_stride, padding='SAME') + bweight\n",
        "    normed = bn(conv_output)\n",
        "    normed = activation(normed)\n",
        "    return normed\n",
        "\n",
        "class ConvLayers(tf.keras.layers.Layer):\n",
        "    def __init__(self, channels, dim_hidden, dim_output, img_size):\n",
        "        super(ConvLayers, self).__init__()\n",
        "        self.channels = channels\n",
        "        self.dim_hidden = dim_hidden\n",
        "        self.dim_output = dim_output\n",
        "        self.img_size = img_size\n",
        "    \n",
        "        weights = {}\n",
        "    \n",
        "        dtype = tf.float32\n",
        "        weight_initializer =  tf.keras.initializers.GlorotUniform()\n",
        "        k = 3\n",
        "    \n",
        "        weights['conv1'] = tf.Variable(weight_initializer(shape=[k, k, self.channels, self.dim_hidden]), name='conv1', dtype=dtype)\n",
        "        weights['b1'] = tf.Variable(tf.zeros([self.dim_hidden]), name='b1')\n",
        "        self.bn1 = tf.keras.layers.BatchNormalization(name='bn1')\n",
        "        weights['conv2'] = tf.Variable(weight_initializer(shape=[k, k, self.dim_hidden, self.dim_hidden]), name='conv2', dtype=dtype)\n",
        "        weights['b2'] = tf.Variable(tf.zeros([self.dim_hidden]), name='b2')\n",
        "        self.bn2 = tf.keras.layers.BatchNormalization(name='bn2')\n",
        "        weights['conv3'] = tf.Variable(weight_initializer(shape=[k, k, self.dim_hidden, self.dim_hidden]), name='conv3', dtype=dtype)\n",
        "        weights['b3'] = tf.Variable(tf.zeros([self.dim_hidden]), name='b3')\n",
        "        self.bn3 = tf.keras.layers.BatchNormalization(name='bn3')\n",
        "        weights['conv4'] = tf.Variable(weight_initializer([k, k, self.dim_hidden, self.dim_hidden]), name='conv4', dtype=dtype)\n",
        "        weights['b4'] = tf.Variable(tf.zeros([self.dim_hidden]), name='b4')\n",
        "        self.bn4 = tf.keras.layers.BatchNormalization(name='bn4')\n",
        "        weights['w5'] = tf.Variable(weight_initializer(shape=[self.dim_hidden, self.dim_output]), name='w5', dtype=dtype)\n",
        "        weights['b5'] = tf.Variable(tf.zeros([self.dim_output]), name='b5')\n",
        "        self.conv_weights = weights\n",
        "\n",
        "    def call(self, inp, weights):\n",
        "        channels = self.channels\n",
        "        inp = tf.reshape(inp, [-1, self.img_size, self.img_size, channels])\n",
        "        hidden1 = conv_block(inp, weights['conv1'], weights['b1'], self.bn1)\n",
        "        hidden2 = conv_block(hidden1, weights['conv2'], weights['b2'], self.bn2)\n",
        "        hidden3 = conv_block(hidden2, weights['conv3'], weights['b3'], self.bn3)\n",
        "        hidden4 = conv_block(hidden3, weights['conv4'], weights['b4'], self.bn4)\n",
        "        hidden4 = tf.reduce_mean(input_tensor=hidden4, axis=[1, 2])\n",
        "        return tf.matmul(hidden4, weights['w5']) + weights['b5']"
      ],
      "execution_count": 4,
      "outputs": []
    },
    {
      "cell_type": "markdown",
      "metadata": {
        "id": "p5olteoU9Ap3"
      },
      "source": [
        "## Data loading"
      ]
    },
    {
      "cell_type": "code",
      "metadata": {
        "id": "pFwh94gpV53z"
      },
      "source": [
        "import tensorflow as tf\n",
        "import numpy as np\n",
        "import pandas as pd\n",
        "from tensorflow import keras\n",
        "import PIL\n",
        "import PIL.Image\n",
        "import pathlib\n",
        "import matplotlib.pyplot as plt\n",
        "from tensorflow.keras import layers\n",
        "import os"
      ],
      "execution_count": 5,
      "outputs": []
    },
    {
      "cell_type": "code",
      "metadata": {
        "id": "YcEP8YiwVaMR"
      },
      "source": [
        "data_dir = pathlib.Path(data_path)\n",
        "list_ds = tf.data.Dataset.list_files(str(data_dir/'*/*'), shuffle=False)\n",
        "image_count = len(list(data_dir.glob('*/*.jpg')))\n",
        "list_ds = list_ds.shuffle(image_count, reshuffle_each_iteration=False)"
      ],
      "execution_count": 6,
      "outputs": []
    },
    {
      "cell_type": "code",
      "metadata": {
        "colab": {
          "base_uri": "https://localhost:8080/"
        },
        "id": "Ok1hqYiCVxbH",
        "outputId": "1bcfec7f-db8e-46d9-cc65-5ac1f1bedffc"
      },
      "source": [
        "class_names = np.array(sorted([item.name for item in data_dir.glob('*')]))\n",
        "print(class_names)\n",
        "print(image_count)"
      ],
      "execution_count": 7,
      "outputs": [
        {
          "output_type": "stream",
          "text": [
            "['Can' 'Garbage' 'Paper' 'Plastic' 'Vinyl']\n",
            "231\n"
          ],
          "name": "stdout"
        }
      ]
    },
    {
      "cell_type": "code",
      "metadata": {
        "id": "G6SNE4wTWEPc"
      },
      "source": [
        "batch_size = 25\n",
        "img_height = 28\n",
        "img_width = 28"
      ],
      "execution_count": 8,
      "outputs": []
    },
    {
      "cell_type": "code",
      "metadata": {
        "colab": {
          "base_uri": "https://localhost:8080/"
        },
        "id": "u7c4YR3xaIY3",
        "outputId": "e6d7952e-4a3c-4c49-ad46-a78d6bea6f8e"
      },
      "source": [
        "meta_train = tf.keras.preprocessing.image_dataset_from_directory(\n",
        "    data_dir,\n",
        "    validation_split=0.2,\n",
        "    subset=\"training\",\n",
        "    seed=123,\n",
        "    image_size=(img_height, img_width),\n",
        "    batch_size = batch_size\n",
        ")"
      ],
      "execution_count": 9,
      "outputs": [
        {
          "output_type": "stream",
          "text": [
            "Found 231 files belonging to 5 classes.\n",
            "Using 185 files for training.\n"
          ],
          "name": "stdout"
        }
      ]
    },
    {
      "cell_type": "code",
      "metadata": {
        "colab": {
          "base_uri": "https://localhost:8080/"
        },
        "id": "Vmz4sRPXaPtn",
        "outputId": "a574e714-5c6e-4957-e6f1-4184b1bbace5"
      },
      "source": [
        "meta_test = tf.keras.preprocessing.image_dataset_from_directory(\n",
        "    data_dir,\n",
        "    validation_split=0.2,\n",
        "    subset=\"validation\",\n",
        "    seed=123,\n",
        "    image_size=(img_height, img_width),\n",
        "    batch_size = batch_size\n",
        ")"
      ],
      "execution_count": 10,
      "outputs": [
        {
          "output_type": "stream",
          "text": [
            "Found 231 files belonging to 5 classes.\n",
            "Using 46 files for validation.\n"
          ],
          "name": "stdout"
        }
      ]
    },
    {
      "cell_type": "markdown",
      "metadata": {
        "id": "xKY_Vy7J9Ap8"
      },
      "source": [
        "## Dataset Check (Optional)"
      ]
    },
    {
      "cell_type": "code",
      "metadata": {
        "colab": {
          "base_uri": "https://localhost:8080/",
          "height": 591
        },
        "id": "hDVki9D2bPaS",
        "outputId": "6ec3c4bb-3672-4d41-8035-16ad069fe7e0"
      },
      "source": [
        "plt.figure(figsize=(10, 10))\n",
        "for images, labels in meta_train.take(1):\n",
        "  for i in range(9):\n",
        "    ax = plt.subplot(3, 3, i+1)\n",
        "    plt.imshow(images[i].numpy().astype(\"uint8\"))\n",
        "    plt.title(class_names[labels[i]])\n",
        "    plt.axis(\"off\")"
      ],
      "execution_count": 12,
      "outputs": [
        {
          "output_type": "display_data",
          "data": {
            "image/png": "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\n",
            "text/plain": [
              "<Figure size 720x720 with 9 Axes>"
            ]
          },
          "metadata": {
            "tags": [],
            "needs_background": "light"
          }
        }
      ]
    },
    {
      "cell_type": "code",
      "metadata": {
        "id": "p8UwCvFB9Ap9"
      },
      "source": [
        "import matplotlib.pyplot as plt\n",
        "\n",
        "n_way = 5\n",
        "k_shot = 2\n",
        "\n",
        "train_image, train_label = next(iter(meta_train))\n",
        "test_image, test_label = next(iter(meta_test))\n",
        "\n",
        "input_tr, input_ts = train_image, test_image\n",
        "label_tr, label_ts = train_label, test_label"
      ],
      "execution_count": 11,
      "outputs": []
    },
    {
      "cell_type": "markdown",
      "metadata": {
        "id": "HIsiEJZ29Ap-"
      },
      "source": [
        "## MAML model"
      ]
    },
    {
      "cell_type": "code",
      "metadata": {
        "collapsed": true,
        "id": "7hlMnLu49Ap-"
      },
      "source": [
        "\"\"\"MAML model code\"\"\"\n",
        "import numpy as np\n",
        "import sys\n",
        "import tensorflow as tf\n",
        "from functools import partial\n",
        "\n",
        "\n",
        "class MAML(tf.keras.Model):\n",
        "    def __init__(self, dim_input=1, dim_output=1, \n",
        "                 num_inner_updates=1,\n",
        "                 inner_update_lr=0.4, num_filters=32, \n",
        "                 k_shot=5, learn_inner_update_lr=False):\n",
        "        super(MAML, self).__init__()\n",
        "        self.dim_input = dim_input\n",
        "        self.dim_output = dim_output\n",
        "        self.inner_update_lr = inner_update_lr\n",
        "        self.loss_func = partial(cross_entropy_loss, k_shot=k_shot)\n",
        "        self.dim_hidden = num_filters\n",
        "        self.channels = 3\n",
        "        self.img_size = int(np.sqrt(self.dim_input/self.channels))\n",
        "    \n",
        "        # outputs_ts[i] and losses_ts_post[i] are the output and loss after i+1 inner gradient updates\n",
        "        losses_tr_pre, outputs_tr, losses_ts_post, outputs_ts = [], [], [], []\n",
        "        accuracies_tr_pre, accuracies_ts = [], []\n",
        "    \n",
        "        # for each loop in the inner training loop\n",
        "        outputs_ts = [[]]*num_inner_updates\n",
        "        losses_ts_post = [[]]*num_inner_updates\n",
        "        accuracies_ts = [[]]*num_inner_updates\n",
        "    \n",
        "        # Define the weights - these should NOT be directly modified by the\n",
        "        # inner training loop\n",
        "        tf.random.set_seed(seed)\n",
        "        self.conv_layers = ConvLayers(self.channels, self.dim_hidden, self.dim_output, self.img_size)\n",
        "    \n",
        "        self.learn_inner_update_lr = learn_inner_update_lr\n",
        "        if self.learn_inner_update_lr:\n",
        "            self.inner_update_lr_dict = {}\n",
        "            for key in self.conv_layers.conv_weights.keys():\n",
        "                self.inner_update_lr_dict[key] = [tf.Variable(self.inner_update_lr, name='inner_update_lr_%s_%d' % (key, j)) for j in range(num_inner_updates)]\n",
        "  \n",
        "    #@tf.function\n",
        "    def call(self, inp, meta_batch_size=25, num_inner_updates=1):\n",
        "        def task_inner_loop(inp, reuse=True,\n",
        "                      meta_batch_size=25, num_inner_updates=1):\n",
        "           \n",
        "            input_tr, input_ts, label_tr, label_ts = inp\n",
        "            \n",
        "            weights = self.conv_layers.conv_weights\n",
        "           \n",
        "            task_output_tr_pre, task_loss_tr_pre, task_accuracy_tr_pre = None, None, None\n",
        "      \n",
        "            task_outputs_ts, task_losses_ts, task_accuracies_ts = [], [], []\n",
        "        \n",
        "            for i in range(num_inner_updates):\n",
        "                with tf.GradientTape(persistent=True) as inner_tape:\n",
        "                    task_output_tr_pre = self.conv_layers(inp=input_tr, weights=weights)\n",
        "                    task_loss_tr_pre = self.loss_func(task_output_tr_pre, label_tr)\n",
        "                    \n",
        "                    fast_weights = weights.copy()                                     \n",
        "                    preds_training = self.conv_layers(input_tr, weights)                \n",
        "                    loss = self.loss_func(preds_training, label_tr)           \n",
        "                    inner_gradients = inner_tape.gradient(loss, weights)      \n",
        "                    acc_training = accuracy(label_tr, preds_training)         \n",
        "                    if task_output_tr_pre is None:                            \n",
        "                        task_output_tr_pre, task_loss_tr_pre, task_accuracy_tr_pre = preds_training, loss, acc_training\n",
        "                    try:                                                                \n",
        "                        for key_w, key_grads in zip(weights, inner_gradients):\n",
        "                            fast_weights[key_w] = weights[key_w] - tf.math.multiply(inner_gradients[key_grads], self.inner_update_lr_dict[key_grads])\n",
        "                    except AttributeError:\n",
        "                        for key_w, key_grads in zip(weights, inner_gradients):\n",
        "                            fast_weights[key_w] = weights[key_w] - inner_gradients[key_grads] * self.inner_update_lr\n",
        "\n",
        "                task_outputs_ts.append(self.conv_layers(input_ts, fast_weights)) \n",
        "                task_losses_ts.append(self.loss_func(task_outputs_ts[-1], label_ts))\n",
        "\n",
        "           \n",
        "      \n",
        "            task_accuracy_tr_pre = accuracy(tf.argmax(input=label_tr, axis=1), tf.argmax(input=tf.nn.softmax(task_output_tr_pre), axis=1))\n",
        "            \n",
        "            for j in range(num_inner_updates):\n",
        "                task_accuracies_ts.append(accuracy(tf.argmax(input=label_ts, axis=1), tf.argmax(input=tf.nn.softmax(task_outputs_ts[j]), axis=1)))\n",
        "            \n",
        "            \n",
        "            task_output = [task_output_tr_pre, task_outputs_ts, task_loss_tr_pre, task_losses_ts, task_accuracy_tr_pre, task_accuracies_ts]\n",
        "             \n",
        "            return task_output\n",
        "\n",
        "        input_tr, input_ts, label_tr, label_ts = inp\n",
        "        \n",
        "        unused = task_inner_loop((input_tr[0], input_ts[0], label_tr[0], label_ts[0]),\n",
        "                                 False,\n",
        "                                 meta_batch_size,\n",
        "                                 num_inner_updates)\n",
        "        out_dtype = [tf.float32, [tf.float32]*num_inner_updates, tf.float32, [tf.float32]*num_inner_updates]\n",
        "        out_dtype.extend([tf.float32, [tf.float32]*num_inner_updates])\n",
        "        \n",
        "        task_inner_loop_partial = partial(task_inner_loop, meta_batch_size=meta_batch_size, num_inner_updates=num_inner_updates)\n",
        "        \n",
        "        result = tf.map_fn(task_inner_loop_partial,\n",
        "                           elems=(input_tr, input_ts, label_tr, label_ts),\n",
        "                           dtype=out_dtype,\n",
        "                           parallel_iterations=meta_batch_size)    \n",
        "        \n",
        "        return result"
      ],
      "execution_count": 13,
      "outputs": []
    },
    {
      "cell_type": "markdown",
      "metadata": {
        "id": "bkILSKjI9Ap_"
      },
      "source": [
        "## Model Training"
      ]
    },
    {
      "cell_type": "code",
      "metadata": {
        "collapsed": true,
        "id": "yVw18hNY9Ap_"
      },
      "source": [
        "import csv\n",
        "import numpy as np\n",
        "import pickle\n",
        "import random\n",
        "import tensorflow as tf\n",
        "\n",
        "def outer_train_step(inp, model, optim, meta_batch_size=25, num_inner_updates=1):\n",
        "    with tf.GradientTape(persistent=False) as outer_tape:\n",
        "        result = model(inp, meta_batch_size=meta_batch_size, num_inner_updates=num_inner_updates)\n",
        "    \n",
        "        outputs_tr, outputs_ts, losses_tr_pre, losses_ts, accuracies_tr_pre, accuracies_ts = result\n",
        "    \n",
        "        total_losses_ts = [tf.reduce_mean(loss_ts) for loss_ts in losses_ts]\n",
        "\n",
        "    gradients = outer_tape.gradient(total_losses_ts[-1], model.trainable_variables)\n",
        "    optim.apply_gradients(zip(gradients, model.trainable_variables))\n",
        "  \n",
        "    total_loss_tr_pre = tf.reduce_mean(losses_tr_pre)\n",
        "    total_accuracy_tr_pre = tf.reduce_mean(accuracies_tr_pre)\n",
        "    total_accuracies_ts = [tf.reduce_mean(accuracy_ts) for accuracy_ts in accuracies_ts]\n",
        "\n",
        "    return outputs_tr, outputs_ts, total_loss_tr_pre, total_losses_ts, total_accuracy_tr_pre, total_accuracies_ts\n",
        "\n",
        "def outer_eval_step(inp, model, meta_batch_size=25, num_inner_updates=1):\n",
        "    result = model(inp, meta_batch_size=meta_batch_size, num_inner_updates=num_inner_updates)\n",
        "  \n",
        "    outputs_tr, outputs_ts, losses_tr_pre, losses_ts, accuracies_tr_pre, accuracies_ts = result\n",
        "  \n",
        "    total_loss_tr_pre = tf.reduce_mean(losses_tr_pre)\n",
        "    total_losses_ts = [tf.reduce_mean(loss_ts) for loss_ts in losses_ts]\n",
        "  \n",
        "    total_accuracy_tr_pre = tf.reduce_mean(accuracies_tr_pre)\n",
        "    total_accuracies_ts = [tf.reduce_mean(accuracy_ts) for accuracy_ts in accuracies_ts]\n",
        "  \n",
        "    return outputs_tr, outputs_ts, total_loss_tr_pre, total_losses_ts, total_accuracy_tr_pre, total_accuracies_ts  \n",
        "\n",
        "\n",
        "def meta_train_fn(model, exp_string,\n",
        "               n_way=5, meta_train_iterations=5000, meta_batch_size=25,\n",
        "               log=True, logdir='./log/model', k_shot=1, num_inner_updates=1, meta_lr=0.001):\n",
        "    SUMMARY_INTERVAL = 10\n",
        "    SAVE_INTERVAL = 100\n",
        "    PRINT_INTERVAL = 10  \n",
        "    TEST_PRINT_INTERVAL = PRINT_INTERVAL*5\n",
        "  \n",
        "    pre_accuracies, post_accuracies = [], []\n",
        "  \n",
        "    config={'data_folder': data_path}\n",
        "    img_size =  config.get('img_size', (28, 28))\n",
        "    num_classes = 6\n",
        "  \n",
        "    optimizer = tf.keras.optimizers.Adam(learning_rate=meta_lr)\n",
        "\n",
        "    for itr in range(meta_train_iterations):   \n",
        "      \n",
        "        input_tr, input_ts = train_image, test_image\n",
        "        label_tr, label_ts = train_label, test_label\n",
        "        \n",
        "    \n",
        "        inp = (input_tr, input_ts, label_tr, label_ts)\n",
        "        \n",
        "        result = outer_train_step(inp, model, optimizer, meta_batch_size=meta_batch_size, num_inner_updates=num_inner_updates)\n",
        "    \n",
        "        if itr % SUMMARY_INTERVAL == 0:\n",
        "            pre_accuracies.append(result[-2])\n",
        "            post_accuracies.append(result[-1][-1])\n",
        "    \n",
        "        if (itr!=0) and itr % PRINT_INTERVAL == 0:\n",
        "            print_str = 'Iteration %d: pre-inner-loop train accuracy: %.5f, post-inner-loop test accuracy: %.5f' % (itr, np.mean(pre_accuracies), np.mean(post_accuracies))\n",
        "            print(print_str)\n",
        "            pre_accuracies, post_accuracies = [], []\n",
        "    \n",
        "        if (itr!=0) and itr % TEST_PRINT_INTERVAL == 0:\n",
        "            \n",
        "            input_tr, input_ts = train_image, test_image\n",
        "            label_tr, label_ts = train_label, test_label\n",
        "            \n",
        "            print(input_tr.shape)\n",
        "            inp = (input_tr, input_ts, label_tr, label_ts)\n",
        "            result = outer_eval_step(inp, model, meta_batch_size=meta_batch_size, num_inner_updates=num_inner_updates)\n",
        "      \n",
        "            print('Meta-validation pre-inner-loop train accuracy: %.5f, meta-validation post-inner-loop test accuracy: %.5f' % (result[-2], result[-1][-1]))\n",
        "       \n",
        "            model_file = logdir + '/' + exp_string +  '/model' + str(itr)\n",
        "            print(\"Saving to \", model_file)\n",
        "            model.save_weights(model_file)\n",
        "    \n",
        "    model_file = logdir + '/' + exp_string +  '/model' + str(itr)\n",
        "    print(\"Saving to \", model_file)\n",
        "    model.save_weights(model_file)\n",
        "\n",
        "NUM_META_TEST_POINTS = 600\n",
        "\n",
        "def meta_test_fn(model, n_way=5, \n",
        "                 meta_batch_size=25, k_shot=1,\n",
        "                 num_inner_updates=1):\n",
        "    config={'data_folder': data_path}\n",
        "    img_size = config.get('img_size', (28, 28))\n",
        "    num_classes = 6\n",
        "  \n",
        "    np.random.seed(1)\n",
        "    random.seed(1)\n",
        "  \n",
        "    meta_test_accuracies = []\n",
        "  \n",
        "    for _ in range(NUM_META_TEST_POINTS): \n",
        "       \n",
        "        input_tr, input_ts = train_image, test_image\n",
        "        label_tr, label_ts = train_label, test_label\n",
        "\n",
        "        # reshape input tensor\n",
        "        \n",
        "\n",
        "        \n",
        "        inp = (input_tr, input_ts, label_tr, label_ts)\n",
        "        result = outer_eval_step(inp, model, meta_batch_size=meta_batch_size, num_inner_updates=num_inner_updates)\n",
        "    \n",
        "        meta_test_accuracies.append(result[-1][-1])\n",
        "\n",
        "    meta_test_accuracies = np.array(meta_test_accuracies)\n",
        "    means = np.mean(meta_test_accuracies)\n",
        "    stds = np.std(meta_test_accuracies)\n",
        "    ci95 = 1.96*stds/np.sqrt(NUM_META_TEST_POINTS)\n",
        "  \n",
        "    print('Mean meta-test accuracy/loss, stddev, and confidence intervals')\n",
        "    print((means, stds, ci95))\n",
        "\n",
        "\n",
        "def run_maml(n_way=5, k_shot=1, meta_batch_size=25, meta_lr=0.001,\n",
        "             inner_update_lr=0.4, num_filters=32, num_inner_updates=1,\n",
        "             learn_inner_update_lr=False,\n",
        "             resume=False, resume_itr=0, log=True, logdir='./log/model',\n",
        "             data_path='./omniglot_resized',meta_train=True,\n",
        "             meta_train_iterations=15000, meta_train_k_shot=-1,\n",
        "             meta_train_inner_update_lr=-1):\n",
        "\n",
        "    config={'data_folder': data_path}\n",
        "    img_size = config.get('img_size', (28, 28))\n",
        "    dim_output = np.prod(img_size)\n",
        "    dim_input = 5\n",
        "    model = MAML(dim_input,\n",
        "                dim_output,\n",
        "                num_inner_updates=num_inner_updates,\n",
        "                inner_update_lr=inner_update_lr,\n",
        "                k_shot=k_shot,\n",
        "                num_filters=num_filters,\n",
        "                learn_inner_update_lr=learn_inner_update_lr)\n",
        "\n",
        "    if meta_train_k_shot == -1:\n",
        "        meta_train_k_shot = k_shot\n",
        "    if meta_train_inner_update_lr == -1:\n",
        "        meta_train_inner_update_lr = inner_update_lr\n",
        "\n",
        "    exp_string = 'cls_'+str(n_way)+'.mbs_'+str(meta_batch_size) + '.k_shot_' + str(meta_train_k_shot) + '.inner_numstep_' + str(num_inner_updates) + '.inner_updatelr_' + str(meta_train_inner_update_lr) + '.learn_inner_update_lr_' + str(learn_inner_update_lr)\n",
        "\n",
        "    if meta_train:\n",
        "        meta_train_fn(model, exp_string, \n",
        "                      n_way, meta_train_iterations, meta_batch_size, log, logdir,\n",
        "                      k_shot, num_inner_updates, meta_lr)\n",
        "    else:\n",
        "        meta_batch_size = 1\n",
        "    \n",
        "        model_file = tf.train.latest_checkpoint(logdir + '/' + exp_string)\n",
        "        print(\"Restoring model weights from \", model_file)\n",
        "        model.load_weights(model_file)\n",
        "    \n",
        "        meta_test_fn(model, n_way, meta_batch_size, k_shot, num_inner_updates)\n",
        "  "
      ],
      "execution_count": 16,
      "outputs": []
    },
    {
      "cell_type": "code",
      "metadata": {
        "scrolled": true,
        "tags": [],
        "id": "jqinJ-1Q9AqA",
        "colab": {
          "base_uri": "https://localhost:8080/",
          "height": 318
        },
        "outputId": "c47a4e37-9a3e-4558-d0e7-4de671fe6613"
      },
      "source": [
        "run_maml(n_way=5, k_shot=1, inner_update_lr=0.4, num_inner_updates=1, meta_train_iterations=2000, logdir='./log/model')"
      ],
      "execution_count": 12,
      "outputs": [
        {
          "output_type": "stream",
          "text": [
            "Iteration 10: pre-inner-loop train accuracy: 0.20000, post-inner-loop test accuracy: 0.20000\n",
            "Iteration 20: pre-inner-loop train accuracy: 0.20800, post-inner-loop test accuracy: 0.20800\n",
            "Iteration 30: pre-inner-loop train accuracy: 0.20000, post-inner-loop test accuracy: 0.19200\n",
            "Iteration 40: pre-inner-loop train accuracy: 0.24800, post-inner-loop test accuracy: 0.20000\n",
            "Iteration 50: pre-inner-loop train accuracy: 0.21600, post-inner-loop test accuracy: 0.21600\n",
            "Meta-validation pre-inner-loop train accuracy: 0.19200, meta-validation post-inner-loop test accuracy: 0.23200\n",
            "Saving to  ./log/model/cls_5.mbs_25.k_shot_1.inner_numstep_1.inner_updatelr_0.5.learn_inner_update_lr_False/model50\n",
            "Iteration 60: pre-inner-loop train accuracy: 0.20000, post-inner-loop test accuracy: 0.19200\n",
            "Iteration 70: pre-inner-loop train accuracy: 0.18400, post-inner-loop test accuracy: 0.21600\n",
            "Iteration 80: pre-inner-loop train accuracy: 0.20800, post-inner-loop test accuracy: 0.16800\n",
            "Iteration 90: pre-inner-loop train accuracy: 0.24800, post-inner-loop test accuracy: 0.21600\n",
            "Iteration 100: pre-inner-loop train accuracy: 0.23200, post-inner-loop test accuracy: 0.23200\n",
            "Meta-validation pre-inner-loop train accuracy: 0.18400, meta-validation post-inner-loop test accuracy: 0.20800\n",
            "Saving to  ./log/model/cls_5.mbs_25.k_shot_1.inner_numstep_1.inner_updatelr_0.5.learn_inner_update_lr_False/model100\n",
            "Iteration 110: pre-inner-loop train accuracy: 0.23200, post-inner-loop test accuracy: 0.22400\n",
            "Iteration 120: pre-inner-loop train accuracy: 0.17600, post-inner-loop test accuracy: 0.23200\n",
            "Iteration 130: pre-inner-loop train accuracy: 0.24000, post-inner-loop test accuracy: 0.26400\n",
            "Iteration 140: pre-inner-loop train accuracy: 0.26400, post-inner-loop test accuracy: 0.31200\n",
            "Iteration 150: pre-inner-loop train accuracy: 0.17600, post-inner-loop test accuracy: 0.24000\n",
            "Meta-validation pre-inner-loop train accuracy: 0.19200, meta-validation post-inner-loop test accuracy: 0.26400\n",
            "Saving to  ./log/model/cls_5.mbs_25.k_shot_1.inner_numstep_1.inner_updatelr_0.5.learn_inner_update_lr_False/model150\n",
            "Iteration 160: pre-inner-loop train accuracy: 0.22400, post-inner-loop test accuracy: 0.26400\n",
            "Iteration 170: pre-inner-loop train accuracy: 0.17600, post-inner-loop test accuracy: 0.25600\n",
            "Iteration 180: pre-inner-loop train accuracy: 0.23200, post-inner-loop test accuracy: 0.24800\n",
            "Iteration 190: pre-inner-loop train accuracy: 0.22400, post-inner-loop test accuracy: 0.28800\n",
            "Iteration 200: pre-inner-loop train accuracy: 0.23200, post-inner-loop test accuracy: 0.24800\n",
            "Meta-validation pre-inner-loop train accuracy: 0.18400, meta-validation post-inner-loop test accuracy: 0.32000\n",
            "Saving to  ./log/model/cls_5.mbs_25.k_shot_1.inner_numstep_1.inner_updatelr_0.5.learn_inner_update_lr_False/model200\n",
            "Iteration 210: pre-inner-loop train accuracy: 0.19200, post-inner-loop test accuracy: 0.25600\n",
            "Iteration 220: pre-inner-loop train accuracy: 0.13600, post-inner-loop test accuracy: 0.28800\n",
            "Iteration 230: pre-inner-loop train accuracy: 0.24000, post-inner-loop test accuracy: 0.28000\n",
            "Iteration 240: pre-inner-loop train accuracy: 0.20000, post-inner-loop test accuracy: 0.31200\n",
            "Iteration 250: pre-inner-loop train accuracy: 0.12800, post-inner-loop test accuracy: 0.29600\n",
            "Meta-validation pre-inner-loop train accuracy: 0.22400, meta-validation post-inner-loop test accuracy: 0.27200\n",
            "Saving to  ./log/model/cls_5.mbs_25.k_shot_1.inner_numstep_1.inner_updatelr_0.5.learn_inner_update_lr_False/model250\n",
            "Iteration 260: pre-inner-loop train accuracy: 0.19200, post-inner-loop test accuracy: 0.29600\n",
            "Iteration 270: pre-inner-loop train accuracy: 0.21600, post-inner-loop test accuracy: 0.31200\n",
            "Iteration 280: pre-inner-loop train accuracy: 0.18400, post-inner-loop test accuracy: 0.32000\n",
            "Iteration 290: pre-inner-loop train accuracy: 0.21600, post-inner-loop test accuracy: 0.37600\n",
            "Iteration 300: pre-inner-loop train accuracy: 0.19200, post-inner-loop test accuracy: 0.30400\n",
            "Meta-validation pre-inner-loop train accuracy: 0.19200, meta-validation post-inner-loop test accuracy: 0.31200\n",
            "Saving to  ./log/model/cls_5.mbs_25.k_shot_1.inner_numstep_1.inner_updatelr_0.5.learn_inner_update_lr_False/model300\n",
            "Iteration 310: pre-inner-loop train accuracy: 0.18400, post-inner-loop test accuracy: 0.32800\n",
            "Iteration 320: pre-inner-loop train accuracy: 0.21600, post-inner-loop test accuracy: 0.36000\n",
            "Iteration 330: pre-inner-loop train accuracy: 0.21600, post-inner-loop test accuracy: 0.33600\n",
            "Iteration 340: pre-inner-loop train accuracy: 0.16000, post-inner-loop test accuracy: 0.38400\n",
            "Iteration 350: pre-inner-loop train accuracy: 0.20000, post-inner-loop test accuracy: 0.31200\n",
            "Meta-validation pre-inner-loop train accuracy: 0.17600, meta-validation post-inner-loop test accuracy: 0.28000\n",
            "Saving to  ./log/model/cls_5.mbs_25.k_shot_1.inner_numstep_1.inner_updatelr_0.5.learn_inner_update_lr_False/model350\n",
            "Iteration 360: pre-inner-loop train accuracy: 0.17600, post-inner-loop test accuracy: 0.27200\n",
            "Iteration 370: pre-inner-loop train accuracy: 0.16800, post-inner-loop test accuracy: 0.35200\n",
            "Iteration 380: pre-inner-loop train accuracy: 0.20000, post-inner-loop test accuracy: 0.35200\n",
            "Iteration 390: pre-inner-loop train accuracy: 0.18400, post-inner-loop test accuracy: 0.34400\n",
            "Iteration 400: pre-inner-loop train accuracy: 0.16000, post-inner-loop test accuracy: 0.35200\n",
            "Meta-validation pre-inner-loop train accuracy: 0.19200, meta-validation post-inner-loop test accuracy: 0.34400\n",
            "Saving to  ./log/model/cls_5.mbs_25.k_shot_1.inner_numstep_1.inner_updatelr_0.5.learn_inner_update_lr_False/model400\n",
            "Iteration 410: pre-inner-loop train accuracy: 0.15200, post-inner-loop test accuracy: 0.37600\n",
            "Iteration 420: pre-inner-loop train accuracy: 0.20800, post-inner-loop test accuracy: 0.39200\n",
            "Iteration 430: pre-inner-loop train accuracy: 0.21600, post-inner-loop test accuracy: 0.33600\n",
            "Iteration 440: pre-inner-loop train accuracy: 0.20000, post-inner-loop test accuracy: 0.35200\n",
            "Iteration 450: pre-inner-loop train accuracy: 0.26400, post-inner-loop test accuracy: 0.40800\n",
            "Meta-validation pre-inner-loop train accuracy: 0.24000, meta-validation post-inner-loop test accuracy: 0.37600\n",
            "Saving to  ./log/model/cls_5.mbs_25.k_shot_1.inner_numstep_1.inner_updatelr_0.5.learn_inner_update_lr_False/model450\n",
            "Iteration 460: pre-inner-loop train accuracy: 0.18400, post-inner-loop test accuracy: 0.32800\n",
            "Iteration 470: pre-inner-loop train accuracy: 0.14400, post-inner-loop test accuracy: 0.32000\n",
            "Iteration 480: pre-inner-loop train accuracy: 0.20000, post-inner-loop test accuracy: 0.36800\n",
            "Iteration 490: pre-inner-loop train accuracy: 0.21600, post-inner-loop test accuracy: 0.37600\n",
            "Iteration 500: pre-inner-loop train accuracy: 0.20000, post-inner-loop test accuracy: 0.34400\n",
            "Meta-validation pre-inner-loop train accuracy: 0.14400, meta-validation post-inner-loop test accuracy: 0.37600\n",
            "Saving to  ./log/model/cls_5.mbs_25.k_shot_1.inner_numstep_1.inner_updatelr_0.5.learn_inner_update_lr_False/model500\n",
            "Iteration 510: pre-inner-loop train accuracy: 0.21600, post-inner-loop test accuracy: 0.33600\n",
            "Iteration 520: pre-inner-loop train accuracy: 0.23200, post-inner-loop test accuracy: 0.38400\n",
            "Iteration 530: pre-inner-loop train accuracy: 0.22400, post-inner-loop test accuracy: 0.36000\n",
            "Iteration 540: pre-inner-loop train accuracy: 0.24000, post-inner-loop test accuracy: 0.41600\n",
            "Iteration 550: pre-inner-loop train accuracy: 0.20800, post-inner-loop test accuracy: 0.35200\n",
            "Meta-validation pre-inner-loop train accuracy: 0.22400, meta-validation post-inner-loop test accuracy: 0.33600\n",
            "Saving to  ./log/model/cls_5.mbs_25.k_shot_1.inner_numstep_1.inner_updatelr_0.5.learn_inner_update_lr_False/model550\n",
            "Iteration 560: pre-inner-loop train accuracy: 0.18400, post-inner-loop test accuracy: 0.38400\n",
            "Iteration 570: pre-inner-loop train accuracy: 0.22400, post-inner-loop test accuracy: 0.40800\n",
            "Iteration 580: pre-inner-loop train accuracy: 0.24000, post-inner-loop test accuracy: 0.42400\n",
            "Iteration 590: pre-inner-loop train accuracy: 0.24000, post-inner-loop test accuracy: 0.43200\n",
            "Iteration 600: pre-inner-loop train accuracy: 0.24000, post-inner-loop test accuracy: 0.42400\n",
            "Meta-validation pre-inner-loop train accuracy: 0.15200, meta-validation post-inner-loop test accuracy: 0.38400\n",
            "Saving to  ./log/model/cls_5.mbs_25.k_shot_1.inner_numstep_1.inner_updatelr_0.5.learn_inner_update_lr_False/model600\n",
            "Iteration 610: pre-inner-loop train accuracy: 0.19200, post-inner-loop test accuracy: 0.42400\n",
            "Iteration 620: pre-inner-loop train accuracy: 0.24000, post-inner-loop test accuracy: 0.44800\n",
            "Iteration 630: pre-inner-loop train accuracy: 0.19200, post-inner-loop test accuracy: 0.33600\n",
            "Iteration 640: pre-inner-loop train accuracy: 0.22400, post-inner-loop test accuracy: 0.42400\n",
            "Iteration 650: pre-inner-loop train accuracy: 0.21600, post-inner-loop test accuracy: 0.40000\n",
            "Meta-validation pre-inner-loop train accuracy: 0.20800, meta-validation post-inner-loop test accuracy: 0.40000\n",
            "Saving to  ./log/model/cls_5.mbs_25.k_shot_1.inner_numstep_1.inner_updatelr_0.5.learn_inner_update_lr_False/model650\n",
            "Iteration 660: pre-inner-loop train accuracy: 0.19200, post-inner-loop test accuracy: 0.39200\n",
            "Iteration 670: pre-inner-loop train accuracy: 0.19200, post-inner-loop test accuracy: 0.39200\n",
            "Iteration 680: pre-inner-loop train accuracy: 0.11200, post-inner-loop test accuracy: 0.41600\n",
            "Iteration 690: pre-inner-loop train accuracy: 0.16800, post-inner-loop test accuracy: 0.39200\n",
            "Iteration 700: pre-inner-loop train accuracy: 0.17600, post-inner-loop test accuracy: 0.40800\n",
            "Meta-validation pre-inner-loop train accuracy: 0.18400, meta-validation post-inner-loop test accuracy: 0.42400\n",
            "Saving to  ./log/model/cls_5.mbs_25.k_shot_1.inner_numstep_1.inner_updatelr_0.5.learn_inner_update_lr_False/model700\n",
            "Iteration 710: pre-inner-loop train accuracy: 0.18400, post-inner-loop test accuracy: 0.42400\n",
            "Iteration 720: pre-inner-loop train accuracy: 0.20800, post-inner-loop test accuracy: 0.43200\n",
            "Iteration 730: pre-inner-loop train accuracy: 0.22400, post-inner-loop test accuracy: 0.41600\n",
            "Iteration 740: pre-inner-loop train accuracy: 0.23200, post-inner-loop test accuracy: 0.40000\n",
            "Iteration 750: pre-inner-loop train accuracy: 0.18400, post-inner-loop test accuracy: 0.37600\n",
            "Meta-validation pre-inner-loop train accuracy: 0.19200, meta-validation post-inner-loop test accuracy: 0.44000\n",
            "Saving to  ./log/model/cls_5.mbs_25.k_shot_1.inner_numstep_1.inner_updatelr_0.5.learn_inner_update_lr_False/model750\n",
            "Iteration 760: pre-inner-loop train accuracy: 0.20800, post-inner-loop test accuracy: 0.37600\n",
            "Iteration 770: pre-inner-loop train accuracy: 0.20000, post-inner-loop test accuracy: 0.42400\n",
            "Iteration 780: pre-inner-loop train accuracy: 0.20800, post-inner-loop test accuracy: 0.41600\n",
            "Iteration 790: pre-inner-loop train accuracy: 0.24800, post-inner-loop test accuracy: 0.43200\n",
            "Iteration 800: pre-inner-loop train accuracy: 0.16800, post-inner-loop test accuracy: 0.42400\n",
            "Meta-validation pre-inner-loop train accuracy: 0.16000, meta-validation post-inner-loop test accuracy: 0.44800\n",
            "Saving to  ./log/model/cls_5.mbs_25.k_shot_1.inner_numstep_1.inner_updatelr_0.5.learn_inner_update_lr_False/model800\n",
            "Iteration 810: pre-inner-loop train accuracy: 0.16800, post-inner-loop test accuracy: 0.47200\n",
            "Iteration 820: pre-inner-loop train accuracy: 0.16800, post-inner-loop test accuracy: 0.47200\n",
            "Iteration 830: pre-inner-loop train accuracy: 0.20000, post-inner-loop test accuracy: 0.40000\n",
            "Iteration 840: pre-inner-loop train accuracy: 0.24800, post-inner-loop test accuracy: 0.43200\n",
            "Iteration 850: pre-inner-loop train accuracy: 0.19200, post-inner-loop test accuracy: 0.42400\n",
            "Meta-validation pre-inner-loop train accuracy: 0.23200, meta-validation post-inner-loop test accuracy: 0.44800\n",
            "Saving to  ./log/model/cls_5.mbs_25.k_shot_1.inner_numstep_1.inner_updatelr_0.5.learn_inner_update_lr_False/model850\n",
            "Iteration 860: pre-inner-loop train accuracy: 0.18400, post-inner-loop test accuracy: 0.47200\n",
            "Iteration 870: pre-inner-loop train accuracy: 0.18400, post-inner-loop test accuracy: 0.45600\n",
            "Iteration 880: pre-inner-loop train accuracy: 0.15200, post-inner-loop test accuracy: 0.41600\n",
            "Iteration 890: pre-inner-loop train accuracy: 0.17600, post-inner-loop test accuracy: 0.39200\n",
            "Iteration 900: pre-inner-loop train accuracy: 0.18400, post-inner-loop test accuracy: 0.36000\n",
            "Meta-validation pre-inner-loop train accuracy: 0.21600, meta-validation post-inner-loop test accuracy: 0.38400\n",
            "Saving to  ./log/model/cls_5.mbs_25.k_shot_1.inner_numstep_1.inner_updatelr_0.5.learn_inner_update_lr_False/model900\n",
            "Iteration 910: pre-inner-loop train accuracy: 0.23200, post-inner-loop test accuracy: 0.38400\n",
            "Iteration 920: pre-inner-loop train accuracy: 0.17600, post-inner-loop test accuracy: 0.42400\n",
            "Iteration 930: pre-inner-loop train accuracy: 0.26400, post-inner-loop test accuracy: 0.43200\n",
            "Iteration 940: pre-inner-loop train accuracy: 0.17600, post-inner-loop test accuracy: 0.45600\n",
            "Iteration 950: pre-inner-loop train accuracy: 0.18400, post-inner-loop test accuracy: 0.46400\n",
            "Meta-validation pre-inner-loop train accuracy: 0.23200, meta-validation post-inner-loop test accuracy: 0.46400\n",
            "Saving to  ./log/model/cls_5.mbs_25.k_shot_1.inner_numstep_1.inner_updatelr_0.5.learn_inner_update_lr_False/model950\n",
            "Iteration 960: pre-inner-loop train accuracy: 0.24000, post-inner-loop test accuracy: 0.42400\n",
            "Iteration 970: pre-inner-loop train accuracy: 0.23200, post-inner-loop test accuracy: 0.47200\n",
            "Iteration 980: pre-inner-loop train accuracy: 0.20800, post-inner-loop test accuracy: 0.42400\n",
            "Iteration 990: pre-inner-loop train accuracy: 0.19200, post-inner-loop test accuracy: 0.42400\n",
            "Iteration 1000: pre-inner-loop train accuracy: 0.24800, post-inner-loop test accuracy: 0.43200\n",
            "Meta-validation pre-inner-loop train accuracy: 0.22400, meta-validation post-inner-loop test accuracy: 0.39200\n",
            "Saving to  ./log/model/cls_5.mbs_25.k_shot_1.inner_numstep_1.inner_updatelr_0.5.learn_inner_update_lr_False/model1000\n",
            "Iteration 1010: pre-inner-loop train accuracy: 0.22400, post-inner-loop test accuracy: 0.53600\n",
            "Iteration 1020: pre-inner-loop train accuracy: 0.18400, post-inner-loop test accuracy: 0.47200\n",
            "Iteration 1030: pre-inner-loop train accuracy: 0.20000, post-inner-loop test accuracy: 0.46400\n",
            "Iteration 1040: pre-inner-loop train accuracy: 0.16800, post-inner-loop test accuracy: 0.44800\n",
            "Iteration 1050: pre-inner-loop train accuracy: 0.16800, post-inner-loop test accuracy: 0.52800\n",
            "Meta-validation pre-inner-loop train accuracy: 0.22400, meta-validation post-inner-loop test accuracy: 0.48800\n",
            "Saving to  ./log/model/cls_5.mbs_25.k_shot_1.inner_numstep_1.inner_updatelr_0.5.learn_inner_update_lr_False/model1050\n",
            "Iteration 1060: pre-inner-loop train accuracy: 0.27200, post-inner-loop test accuracy: 0.44800\n",
            "Iteration 1070: pre-inner-loop train accuracy: 0.23200, post-inner-loop test accuracy: 0.44800\n",
            "Iteration 1080: pre-inner-loop train accuracy: 0.16800, post-inner-loop test accuracy: 0.55200\n",
            "Iteration 1090: pre-inner-loop train accuracy: 0.16000, post-inner-loop test accuracy: 0.48000\n",
            "Iteration 1100: pre-inner-loop train accuracy: 0.16800, post-inner-loop test accuracy: 0.46400\n",
            "Meta-validation pre-inner-loop train accuracy: 0.18400, meta-validation post-inner-loop test accuracy: 0.48000\n",
            "Saving to  ./log/model/cls_5.mbs_25.k_shot_1.inner_numstep_1.inner_updatelr_0.5.learn_inner_update_lr_False/model1100\n",
            "Iteration 1110: pre-inner-loop train accuracy: 0.24800, post-inner-loop test accuracy: 0.49600\n",
            "Iteration 1120: pre-inner-loop train accuracy: 0.18400, post-inner-loop test accuracy: 0.44000\n",
            "Iteration 1130: pre-inner-loop train accuracy: 0.19200, post-inner-loop test accuracy: 0.44000\n",
            "Iteration 1140: pre-inner-loop train accuracy: 0.23200, post-inner-loop test accuracy: 0.43200\n",
            "Iteration 1150: pre-inner-loop train accuracy: 0.19200, post-inner-loop test accuracy: 0.41600\n",
            "Meta-validation pre-inner-loop train accuracy: 0.24800, meta-validation post-inner-loop test accuracy: 0.44000\n",
            "Saving to  ./log/model/cls_5.mbs_25.k_shot_1.inner_numstep_1.inner_updatelr_0.5.learn_inner_update_lr_False/model1150\n",
            "Iteration 1160: pre-inner-loop train accuracy: 0.17600, post-inner-loop test accuracy: 0.48000\n",
            "Iteration 1170: pre-inner-loop train accuracy: 0.20000, post-inner-loop test accuracy: 0.56800\n",
            "Iteration 1180: pre-inner-loop train accuracy: 0.22400, post-inner-loop test accuracy: 0.50400\n",
            "Iteration 1190: pre-inner-loop train accuracy: 0.17600, post-inner-loop test accuracy: 0.52000\n",
            "Iteration 1200: pre-inner-loop train accuracy: 0.20800, post-inner-loop test accuracy: 0.49600\n",
            "Meta-validation pre-inner-loop train accuracy: 0.18400, meta-validation post-inner-loop test accuracy: 0.43200\n",
            "Saving to  ./log/model/cls_5.mbs_25.k_shot_1.inner_numstep_1.inner_updatelr_0.5.learn_inner_update_lr_False/model1200\n",
            "Iteration 1210: pre-inner-loop train accuracy: 0.14400, post-inner-loop test accuracy: 0.49600\n",
            "Iteration 1220: pre-inner-loop train accuracy: 0.20800, post-inner-loop test accuracy: 0.46400\n",
            "Iteration 1230: pre-inner-loop train accuracy: 0.26400, post-inner-loop test accuracy: 0.52800\n",
            "Iteration 1240: pre-inner-loop train accuracy: 0.23200, post-inner-loop test accuracy: 0.46400\n",
            "Iteration 1250: pre-inner-loop train accuracy: 0.20000, post-inner-loop test accuracy: 0.52800\n",
            "Meta-validation pre-inner-loop train accuracy: 0.23200, meta-validation post-inner-loop test accuracy: 0.49600\n",
            "Saving to  ./log/model/cls_5.mbs_25.k_shot_1.inner_numstep_1.inner_updatelr_0.5.learn_inner_update_lr_False/model1250\n",
            "Iteration 1260: pre-inner-loop train accuracy: 0.20000, post-inner-loop test accuracy: 0.52800\n",
            "Iteration 1270: pre-inner-loop train accuracy: 0.26400, post-inner-loop test accuracy: 0.48800\n",
            "Iteration 1280: pre-inner-loop train accuracy: 0.19200, post-inner-loop test accuracy: 0.56000\n",
            "Iteration 1290: pre-inner-loop train accuracy: 0.16000, post-inner-loop test accuracy: 0.50400\n",
            "Iteration 1300: pre-inner-loop train accuracy: 0.23200, post-inner-loop test accuracy: 0.48000\n",
            "Meta-validation pre-inner-loop train accuracy: 0.21600, meta-validation post-inner-loop test accuracy: 0.52800\n",
            "Saving to  ./log/model/cls_5.mbs_25.k_shot_1.inner_numstep_1.inner_updatelr_0.5.learn_inner_update_lr_False/model1300\n",
            "Iteration 1310: pre-inner-loop train accuracy: 0.16800, post-inner-loop test accuracy: 0.40000\n",
            "Iteration 1320: pre-inner-loop train accuracy: 0.20000, post-inner-loop test accuracy: 0.52800\n",
            "Iteration 1330: pre-inner-loop train accuracy: 0.14400, post-inner-loop test accuracy: 0.56000\n",
            "Iteration 1340: pre-inner-loop train accuracy: 0.26400, post-inner-loop test accuracy: 0.52000\n",
            "Iteration 1350: pre-inner-loop train accuracy: 0.20000, post-inner-loop test accuracy: 0.51200\n",
            "Meta-validation pre-inner-loop train accuracy: 0.24000, meta-validation post-inner-loop test accuracy: 0.52000\n",
            "Saving to  ./log/model/cls_5.mbs_25.k_shot_1.inner_numstep_1.inner_updatelr_0.5.learn_inner_update_lr_False/model1350\n",
            "Iteration 1360: pre-inner-loop train accuracy: 0.22400, post-inner-loop test accuracy: 0.52800\n",
            "Iteration 1370: pre-inner-loop train accuracy: 0.24000, post-inner-loop test accuracy: 0.48800\n",
            "Iteration 1380: pre-inner-loop train accuracy: 0.17600, post-inner-loop test accuracy: 0.51200\n",
            "Iteration 1390: pre-inner-loop train accuracy: 0.21600, post-inner-loop test accuracy: 0.45600\n",
            "Iteration 1400: pre-inner-loop train accuracy: 0.14400, post-inner-loop test accuracy: 0.51200\n",
            "Meta-validation pre-inner-loop train accuracy: 0.19200, meta-validation post-inner-loop test accuracy: 0.48000\n",
            "Saving to  ./log/model/cls_5.mbs_25.k_shot_1.inner_numstep_1.inner_updatelr_0.5.learn_inner_update_lr_False/model1400\n",
            "Iteration 1410: pre-inner-loop train accuracy: 0.18400, post-inner-loop test accuracy: 0.50400\n",
            "Iteration 1420: pre-inner-loop train accuracy: 0.22400, post-inner-loop test accuracy: 0.49600\n",
            "Iteration 1430: pre-inner-loop train accuracy: 0.16000, post-inner-loop test accuracy: 0.50400\n",
            "Iteration 1440: pre-inner-loop train accuracy: 0.24800, post-inner-loop test accuracy: 0.46400\n",
            "Iteration 1450: pre-inner-loop train accuracy: 0.20000, post-inner-loop test accuracy: 0.42400\n",
            "Meta-validation pre-inner-loop train accuracy: 0.22400, meta-validation post-inner-loop test accuracy: 0.52000\n",
            "Saving to  ./log/model/cls_5.mbs_25.k_shot_1.inner_numstep_1.inner_updatelr_0.5.learn_inner_update_lr_False/model1450\n",
            "Iteration 1460: pre-inner-loop train accuracy: 0.21600, post-inner-loop test accuracy: 0.52000\n",
            "Iteration 1470: pre-inner-loop train accuracy: 0.23200, post-inner-loop test accuracy: 0.45600\n",
            "Iteration 1480: pre-inner-loop train accuracy: 0.15200, post-inner-loop test accuracy: 0.52000\n",
            "Iteration 1490: pre-inner-loop train accuracy: 0.16000, post-inner-loop test accuracy: 0.52800\n",
            "Iteration 1500: pre-inner-loop train accuracy: 0.16000, post-inner-loop test accuracy: 0.51200\n",
            "Meta-validation pre-inner-loop train accuracy: 0.24800, meta-validation post-inner-loop test accuracy: 0.51200\n",
            "Saving to  ./log/model/cls_5.mbs_25.k_shot_1.inner_numstep_1.inner_updatelr_0.5.learn_inner_update_lr_False/model1500\n",
            "Iteration 1510: pre-inner-loop train accuracy: 0.22400, post-inner-loop test accuracy: 0.47200\n",
            "Iteration 1520: pre-inner-loop train accuracy: 0.20000, post-inner-loop test accuracy: 0.55200\n",
            "Iteration 1530: pre-inner-loop train accuracy: 0.19200, post-inner-loop test accuracy: 0.47200\n",
            "Iteration 1540: pre-inner-loop train accuracy: 0.19200, post-inner-loop test accuracy: 0.60000\n",
            "Iteration 1550: pre-inner-loop train accuracy: 0.11200, post-inner-loop test accuracy: 0.59200\n",
            "Meta-validation pre-inner-loop train accuracy: 0.18400, meta-validation post-inner-loop test accuracy: 0.47200\n",
            "Saving to  ./log/model/cls_5.mbs_25.k_shot_1.inner_numstep_1.inner_updatelr_0.5.learn_inner_update_lr_False/model1550\n",
            "Iteration 1560: pre-inner-loop train accuracy: 0.15200, post-inner-loop test accuracy: 0.54400\n",
            "Iteration 1570: pre-inner-loop train accuracy: 0.22400, post-inner-loop test accuracy: 0.55200\n",
            "Iteration 1580: pre-inner-loop train accuracy: 0.26400, post-inner-loop test accuracy: 0.47200\n",
            "Iteration 1590: pre-inner-loop train accuracy: 0.18400, post-inner-loop test accuracy: 0.50400\n",
            "Iteration 1600: pre-inner-loop train accuracy: 0.21600, post-inner-loop test accuracy: 0.48800\n",
            "Meta-validation pre-inner-loop train accuracy: 0.24000, meta-validation post-inner-loop test accuracy: 0.51200\n",
            "Saving to  ./log/model/cls_5.mbs_25.k_shot_1.inner_numstep_1.inner_updatelr_0.5.learn_inner_update_lr_False/model1600\n",
            "Iteration 1610: pre-inner-loop train accuracy: 0.19200, post-inner-loop test accuracy: 0.52800\n",
            "Iteration 1620: pre-inner-loop train accuracy: 0.24800, post-inner-loop test accuracy: 0.53600\n",
            "Iteration 1630: pre-inner-loop train accuracy: 0.21600, post-inner-loop test accuracy: 0.61600\n",
            "Iteration 1640: pre-inner-loop train accuracy: 0.20800, post-inner-loop test accuracy: 0.47200\n",
            "Iteration 1650: pre-inner-loop train accuracy: 0.24800, post-inner-loop test accuracy: 0.46400\n",
            "Meta-validation pre-inner-loop train accuracy: 0.22400, meta-validation post-inner-loop test accuracy: 0.45600\n",
            "Saving to  ./log/model/cls_5.mbs_25.k_shot_1.inner_numstep_1.inner_updatelr_0.5.learn_inner_update_lr_False/model1650\n",
            "Iteration 1660: pre-inner-loop train accuracy: 0.14400, post-inner-loop test accuracy: 0.53600\n",
            "Iteration 1670: pre-inner-loop train accuracy: 0.17600, post-inner-loop test accuracy: 0.50400\n",
            "Iteration 1680: pre-inner-loop train accuracy: 0.15200, post-inner-loop test accuracy: 0.58400\n",
            "Iteration 1690: pre-inner-loop train accuracy: 0.16000, post-inner-loop test accuracy: 0.54400\n",
            "Iteration 1700: pre-inner-loop train accuracy: 0.24800, post-inner-loop test accuracy: 0.56800\n",
            "Meta-validation pre-inner-loop train accuracy: 0.17600, meta-validation post-inner-loop test accuracy: 0.48800\n",
            "Saving to  ./log/model/cls_5.mbs_25.k_shot_1.inner_numstep_1.inner_updatelr_0.5.learn_inner_update_lr_False/model1700\n",
            "Iteration 1710: pre-inner-loop train accuracy: 0.17600, post-inner-loop test accuracy: 0.56800\n",
            "Iteration 1720: pre-inner-loop train accuracy: 0.20800, post-inner-loop test accuracy: 0.53600\n",
            "Iteration 1730: pre-inner-loop train accuracy: 0.25600, post-inner-loop test accuracy: 0.54400\n",
            "Iteration 1740: pre-inner-loop train accuracy: 0.18400, post-inner-loop test accuracy: 0.53600\n",
            "Iteration 1750: pre-inner-loop train accuracy: 0.24000, post-inner-loop test accuracy: 0.55200\n",
            "Meta-validation pre-inner-loop train accuracy: 0.15200, meta-validation post-inner-loop test accuracy: 0.52000\n",
            "Saving to  ./log/model/cls_5.mbs_25.k_shot_1.inner_numstep_1.inner_updatelr_0.5.learn_inner_update_lr_False/model1750\n",
            "Iteration 1760: pre-inner-loop train accuracy: 0.19200, post-inner-loop test accuracy: 0.56800\n",
            "Iteration 1770: pre-inner-loop train accuracy: 0.19200, post-inner-loop test accuracy: 0.50400\n",
            "Iteration 1780: pre-inner-loop train accuracy: 0.22400, post-inner-loop test accuracy: 0.52800\n",
            "Iteration 1790: pre-inner-loop train accuracy: 0.20000, post-inner-loop test accuracy: 0.57600\n",
            "Iteration 1800: pre-inner-loop train accuracy: 0.20000, post-inner-loop test accuracy: 0.52000\n",
            "Meta-validation pre-inner-loop train accuracy: 0.16000, meta-validation post-inner-loop test accuracy: 0.50400\n",
            "Saving to  ./log/model/cls_5.mbs_25.k_shot_1.inner_numstep_1.inner_updatelr_0.5.learn_inner_update_lr_False/model1800\n",
            "Iteration 1810: pre-inner-loop train accuracy: 0.16000, post-inner-loop test accuracy: 0.52000\n",
            "Iteration 1820: pre-inner-loop train accuracy: 0.16800, post-inner-loop test accuracy: 0.53600\n",
            "Iteration 1830: pre-inner-loop train accuracy: 0.17600, post-inner-loop test accuracy: 0.54400\n",
            "Iteration 1840: pre-inner-loop train accuracy: 0.21600, post-inner-loop test accuracy: 0.48800\n",
            "Iteration 1850: pre-inner-loop train accuracy: 0.17600, post-inner-loop test accuracy: 0.57600\n",
            "Meta-validation pre-inner-loop train accuracy: 0.19200, meta-validation post-inner-loop test accuracy: 0.47200\n",
            "Saving to  ./log/model/cls_5.mbs_25.k_shot_1.inner_numstep_1.inner_updatelr_0.5.learn_inner_update_lr_False/model1850\n",
            "Iteration 1860: pre-inner-loop train accuracy: 0.18400, post-inner-loop test accuracy: 0.52000\n",
            "Iteration 1870: pre-inner-loop train accuracy: 0.21600, post-inner-loop test accuracy: 0.50400\n",
            "Iteration 1880: pre-inner-loop train accuracy: 0.25600, post-inner-loop test accuracy: 0.55200\n",
            "Iteration 1890: pre-inner-loop train accuracy: 0.20800, post-inner-loop test accuracy: 0.58400\n",
            "Iteration 1900: pre-inner-loop train accuracy: 0.17600, post-inner-loop test accuracy: 0.55200\n",
            "Meta-validation pre-inner-loop train accuracy: 0.20000, meta-validation post-inner-loop test accuracy: 0.52000\n",
            "Saving to  ./log/model/cls_5.mbs_25.k_shot_1.inner_numstep_1.inner_updatelr_0.5.learn_inner_update_lr_False/model1900\n",
            "Iteration 1910: pre-inner-loop train accuracy: 0.22400, post-inner-loop test accuracy: 0.56000\n",
            "Iteration 1920: pre-inner-loop train accuracy: 0.19200, post-inner-loop test accuracy: 0.53600\n",
            "Iteration 1930: pre-inner-loop train accuracy: 0.20000, post-inner-loop test accuracy: 0.52800\n",
            "Iteration 1940: pre-inner-loop train accuracy: 0.22400, post-inner-loop test accuracy: 0.54400\n",
            "Iteration 1950: pre-inner-loop train accuracy: 0.20800, post-inner-loop test accuracy: 0.60000\n",
            "Meta-validation pre-inner-loop train accuracy: 0.23200, meta-validation post-inner-loop test accuracy: 0.48000\n",
            "Saving to  ./log/model/cls_5.mbs_25.k_shot_1.inner_numstep_1.inner_updatelr_0.5.learn_inner_update_lr_False/model1950\n",
            "Iteration 1960: pre-inner-loop train accuracy: 0.18400, post-inner-loop test accuracy: 0.55200\n",
            "Iteration 1970: pre-inner-loop train accuracy: 0.20800, post-inner-loop test accuracy: 0.50400\n",
            "Iteration 1980: pre-inner-loop train accuracy: 0.21600, post-inner-loop test accuracy: 0.56800\n",
            "Iteration 1990: pre-inner-loop train accuracy: 0.20800, post-inner-loop test accuracy: 0.52800\n",
            "Iteration 2000: pre-inner-loop train accuracy: 0.23200, post-inner-loop test accuracy: 0.59200\n",
            "Meta-validation pre-inner-loop train accuracy: 0.24800, meta-validation post-inner-loop test accuracy: 0.53600\n",
            "Saving to  ./log/model/cls_5.mbs_25.k_shot_1.inner_numstep_1.inner_updatelr_0.5.learn_inner_update_lr_False/model2000\n",
          ],
          "name": "stdout"
        }
      ]
    },
    {
      "cell_type": "code",
      "metadata": {
        "id": "mAGSrDOF9AqB",
        "colab": {
          "base_uri": "https://localhost:8080/"
        },
        "outputId": "0b87d62b-fb9e-454b-b514-9fb689857c36"
      },
      "source": [
        "run_maml(n_way=5, k_shot=1, inner_update_lr=0.5, num_inner_updates=1, meta_train=False, logdir='./log/model/')"
      ],
      "execution_count": 13,
      "outputs": [
        {
          "output_type": "stream",
          "text": [
            "Restoring model weights from  ./log/model//cls_5.mbs_25.k_shot_1.inner_numstep_1.inner_updatelr_0.5.learn_inner_update_lr_False/model2000\n",
            "Mean meta-test accuracy/loss, stddev, and confidence intervals\n",
            "(0.54, 0.17925774, 0.014343606166580964)\n"
          ],
          "name": "stdout"
        }
      ]
    }
  ]
}